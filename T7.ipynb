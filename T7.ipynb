{
 "cells": [
  {
   "cell_type": "markdown",
   "metadata": {},
   "source": [
    "# ConvNets\n",
    "\n",
    "In this notebook, we will implement the forward and backward propagation for CONV+POOL layers in numpy. These form the building blocks of convolutional neurals network which can be broken down in the followning tasks:\n",
    "\n",
    "convolution layer:\n",
    "- zero padding\n",
    "- convolve window\n",
    "- forward convolution\n",
    "- backward convolution\n",
    "\n",
    "pooling layer:\n",
    "- forward pooling\n",
    "- mask\n",
    "- sharing value\n",
    "- backward pooling\n",
    "\n",
    "Each forward operation is matched to a backward operation ; a cache is used to store parameters to compute gradients during backprop.\n",
    "\n",
    "> **Instructions:** Ensure your Python environment is setup with the following additional packages: \n",
    ">\n",
    "> - `t7utils.py` contains unit tests to check your code and some helper functions "
   ]
  },
  {
   "cell_type": "code",
   "execution_count": 2,
   "metadata": {},
   "outputs": [],
   "source": [
    "# Package imports\n",
    "import numpy as np\n",
    "import math\n",
    "import matplotlib.pyplot as plt\n",
    "from matplotlib.ticker import MaxNLocator\n",
    "import t7utils as t7\n",
    "\n",
    "%matplotlib inline\n",
    "np.set_printoptions(precision=3, suppress=True)\n",
    "\n",
    "%load_ext autoreload\n",
    "%autoreload 2"
   ]
  },
  {
   "cell_type": "markdown",
   "metadata": {},
   "source": [
    "**Notation**:\n",
    "\n",
    "- $n_H$, $n_W$ and $n_C$: height, width and channel count of a given layer\n",
    "- lowerscript $i$: $i^{th}$ refers to the $i^{th}$ vector entry\n",
    "- superscript $[k]$ refers to an object of the $k^{th}$ layer \n",
    "- superscript $(i)$ refers object from the $i^{th}$ example. \n",
    "\n",
    "\n",
    "## A. Convolutional Layer Foward Propagation ##\n",
    "\n",
    "### 1. Zero Padding ###\n",
    "\n",
    "A convolution layer (CONV) transforms an input tensor into an output tensor of different size. For 2D data such as images, tensor dimensions are generally $n_H \\times n_W \\times n_C$. A first step consists in zero padding the input volume. This permits to use a CONV layer without reducing the width and height of the output volume. This is important when considering deeper networks as each CONV will shrink width/height. A special case is the \"same\" convolution where width/height are preserved after convolution (padding is set to 1/2 of the kernel size reduced by 1). Padding helps preserving information at the border of an image. Without padding, fewer values in the next activation maps would be affected by pixels at the edges.\n",
    "\n",
    "<img src=\"figs/zero-padding.png\" style=\"width: 800px;\"/>\n",
    "<caption><center>**Figure 1:** Zero-padding </center></caption>\n",
    "\n",
    "> <font color='darkgreen'>**Exercise 1:**</font> Complete the following function to zero-pad the batch of examples X with zeros as illustrated in Figure 1. Hint: Use [np.pad](https://docs.scipy.org/doc/numpy/reference/generated/numpy.pad.html) to pad input tensor e.g. if you want to zero-pad `X` of shape $(2000, 32, 32, 3)$,  \n",
    "> ```python\n",
    "Y = np.pad(X, ((0,0), (2,2), (2,2), (0,0)), 'constant')\n",
    "```\n",
    "> will result in tensor or shape $(2000, 34, 34, 3)$."
   ]
  },
  {
   "cell_type": "code",
   "execution_count": 3,
   "metadata": {},
   "outputs": [],
   "source": [
    "# Zero-padding\n",
    "def zero_pad(X, pad):\n",
    "    \"\"\"\n",
    "    Zero-pad input tensor X, where padding is applied to height \n",
    "    and width as shown in Figure 1\n",
    "    \n",
    "    Argument:\n",
    "    X -- a numpy array of shape (n, n_H, n_W, n_C)\n",
    "    pad -- integer, amount of padding around height and width\n",
    "    \n",
    "    Returns:\n",
    "    X_pad -- padded numpy array of shape (n, n_H + 2 * pad, n_W + 2 * pad, n_C)\n",
    "    \"\"\"\n",
    "    \n",
    "    ### INPUT YOUR CODE HERE ### (1 line)\n",
    "    X_pad = np.pad(X, ((0, 0), (pad, pad), (pad, pad), (0, 0)), 'constant')\n",
    "    ### END OF YOUR CODE SEGMENT ### \n",
    "    \n",
    "    return X_pad"
   ]
  },
  {
   "cell_type": "code",
   "execution_count": 4,
   "metadata": {},
   "outputs": [
    {
     "name": "stdout",
     "output_type": "stream",
     "text": [
      "X.shape = (32, 8, 8, 3)\n",
      "X_pad.shape = (32, 12, 12, 3)\n"
     ]
    },
    {
     "data": {
      "image/png": "[encoded data removed]",
      "text/plain": [
       "<Figure size 640x480 with 2 Axes>"
      ]
     },
     "metadata": {},
     "output_type": "display_data"
    }
   ],
   "source": [
    "# testing\n",
    "X = t7.zero_pad_test()\n",
    "print(\"X.shape = {}\".format(X.shape))\n",
    "X_pad = zero_pad(X, 2)\n",
    "print(\"X_pad.shape = {}\".format(X_pad.shape))\n",
    "\n",
    "_, figs = plt.subplots(1, 2)\n",
    "figs[0].set_title('X')\n",
    "figs[1].set_title('X_pad')\n",
    "figs[0].imshow(X[0,:,:,:])\n",
    "figs[1].imshow(X_pad[0,:,:,:])\n",
    "figs[1].xaxis.set_major_locator(MaxNLocator(integer=True))"
   ]
  },
  {
   "cell_type": "markdown",
   "metadata": {},
   "source": [
    "> ***Expected Output:***\n",
    ">\n",
    "> `X.shape = (32, 8, 8, 3)\n",
    "X_pad.shape = (32, 12, 12, 3)`"
   ]
  },
  {
   "cell_type": "markdown",
   "metadata": {},
   "source": [
    "### 2. Convolution Step (Window Correlation) ###\n",
    "\n",
    "Let's implement a single step of convolution by applying the filter kernel to a slice of the previous activation and corresponding to a single position of the input. The convolutional output will then be obtained by applying this single step at every position of the input.\n",
    "\n",
    "\n",
    "<img src=\"figs/convolution.png\" style=\"width: 350px;\"/>\n",
    "<caption><center>**Figure 2:** Convolution operation with a kernel of $3\\times 3$ with<br/> a stride (step of sliding window) of 3 assuming zero bias</center></caption>\n",
    "\n",
    "Each value in the left matrix corresponds to a single pixel value. We convolve a $3\\times 3$ filter with the image by multiplying its values element-wise, summing up and adding a bias. \n",
    "\n",
    "> <font color='darkgreen'>**Exercise 2:**</font> Complete the following function to implement a single convolution step corresponding to applying a filter to one position and resulting in a single scalar output."
   ]
  },
  {
   "cell_type": "code",
   "execution_count": 5,
   "metadata": {},
   "outputs": [],
   "source": [
    "# Single convolution step\n",
    "def conv_step(a_prev_slice, W, b):\n",
    "    \"\"\"\n",
    "    Apply conv filter (W, b) on single slice\n",
    "    \n",
    "    Arguments:\n",
    "    a_prev_slice -- input slice of shape (n_f, n_f, n_C_prev)\n",
    "    W -- weight matrix of shape (n_f, n_f, n_C_prev)\n",
    "    b -- bias scalar\n",
    "    \n",
    "    Returns:\n",
    "    z -- scalar\n",
    "    \"\"\"\n",
    "   \n",
    "    ### INPUT YOUR CODE HERE ### (1 line)\n",
    "    z = np.sum(a_prev_slice * W) + b\n",
    "    ### END OF YOUR CODE SEGMENT ### \n",
    "\n",
    "    return z"
   ]
  },
  {
   "cell_type": "code",
   "execution_count": 6,
   "metadata": {},
   "outputs": [
    {
     "name": "stdout",
     "output_type": "stream",
     "text": [
      "z = -7.636\n"
     ]
    }
   ],
   "source": [
    "# testing\n",
    "a_prev_slice, W, b = t7.conv_step_test()\n",
    "z = conv_step(a_prev_slice, W, b)\n",
    "print(\"z = {:.3f}\".format(z))"
   ]
  },
  {
   "cell_type": "markdown",
   "metadata": {},
   "source": [
    "> ***Expected Output:***\n",
    ">\n",
    "> `z = -7.636`\n",
    "\n",
    "### 3. CONV Layer Forward ###\n",
    "\n",
    "In the forward propagation, we consider a number of filters and convolve them on the input. Each 'convolution' results in a 2D convolution map that are stacked to form a 3D volume.\n",
    "\n",
    "> <font color='darkgreen'>**Exercise 3:**</font>  Implement the following function to convolve the filters $(W, b)$ on the activation map of the previous layer $A^{[k-1]}$ for a batch of $n$ samples. The function takes as input `A_prev`, $n_C$ filter weights denoted by `W` of shape $(n_f, n_f, n_C^{[k-1]}, n_C^{[k]})$, and a bias vector denoted by `b` of shape $(1, 1, 1, n_C^{[k]})$ where each filter has its own single bias. Finally we also pass an hyperparameter dictionary, `params`, containing stride and padding details.\n",
    "> \n",
    "> **Hint:** to select a $n_f \\times n_f$ slide at the $(i,j)$ location of the previous activation map, use `A_prev[i:i+n_f, j:j+n_f, :]`\n",
    "> \n",
    "> $$ n_H^{[k]} = \\left\\lfloor \\frac{n_{H}^{[k-1]} - n_f + 2 \\times padding}{stride} \\right\\rfloor +1 $$\n",
    ">\n",
    "> $$ n_W^{[k]} = \\left\\lfloor \\frac{n_{W}^{[k-1]} - n_f + 2 \\times padding}{stride} \\right\\rfloor +1 $$\n",
    ">\n",
    "> $$ n_C^{[k]} = \\text{number of convolution filters}$$\n"
   ]
  },
  {
   "cell_type": "code",
   "execution_count": 7,
   "metadata": {},
   "outputs": [],
   "source": [
    "# Forward convolution\n",
    "def conv_fwd(A_prev, W, b, params):\n",
    "    \"\"\"\n",
    "    Implements convolution forward propagation \n",
    "    \n",
    "    Arguments:\n",
    "    A_prev -- activations of previous layer, array of shape (n, n_H_prev, n_W_prev, n_C_prev)\n",
    "    W -- weights tensor of shape (n_f, n_f, n_C_prev, n_C)\n",
    "    b -- bias vector of shape (1, 1, 1, n_C)\n",
    "    params -- python dictionary \n",
    "        stride -- integer\n",
    "        padding -- integer \n",
    "        \n",
    "    Returns:\n",
    "    Z -- convolution output tensor of shape (n, n_H, n_W, n_C)\n",
    "    cache -- dictionary for backprop\n",
    "        A_prev -- activations of previous layer, array of shape (n, n_H_prev, n_W_prev, n_C_prev)\n",
    "        W -- weights tensor of shape (n_f, n_f, n_C_prev, n_C)\n",
    "        b -- bias vector of shape (1, 1, 1, n_C)\n",
    "        params -- python dictionary \n",
    "            stride -- integer\n",
    "            padding -- integer \n",
    "    \"\"\"\n",
    "    \n",
    "    ### INPUT YOUR CODE HERE ### (8 lines)\n",
    "    (n, n_H_prev, n_W_prev, n_C_prev) = A_prev.shape # Retrieve dimensions\n",
    "    (n_f, n_f, n_C_prev, n_C) = W.shape # Retrieve dimensions\n",
    "    stride = params[\"stride\"] # Retrieve stride\n",
    "    padding = params[\"padding\"] # Retrieve padding\n",
    "    n_H = int((n_H_prev - n_f + 2 * padding) / stride) + 1 # Compute kernel width\n",
    "    n_W = int((n_W_prev - n_f + 2 * padding) / stride) + 1 # Compute kernel height\n",
    "    Z = np.zeros((n, n_H, n_W, n_C)) # Initialize output tensor with zeros\n",
    "    A_prev_pad = zero_pad(A_prev, padding) # Pad input activation maps\n",
    "    ### END OF YOUR CODE SEGMENT ###         \n",
    "\n",
    "    for i in range(n):                    # batch loop\n",
    "        a_prev_pad = A_prev_pad[i,:,:,:]  # select ith training padded activation  \n",
    "        for h in range(n_H):              # height loop\n",
    "            for w in range(n_W):          # width loop\n",
    "                for c in range(n_C):      # channel (# of filter) loop\n",
    "                    ### INPUT YOUR CODE HERE ### (4 lines)\n",
    "                    h_range = slice(h*stride, h*stride+n_f)\n",
    "                    w_range = slice(w*stride, w*stride+n_f)\n",
    "                    a_slice_prev = a_prev_pad[h_range, w_range, :]\n",
    "                    Z[i, h, w, c] = np.sum(a_slice_prev * W[..., c]) + b[..., c]\n",
    "                    ### END OF YOUR CODE SEGMENT ###         \n",
    "\n",
    "    assert(Z.shape == (n, n_H, n_W, n_C))\n",
    "    cache = {}\n",
    "    ### INPUT YOUR CODE HERE ### (4 lines)\n",
    "    cache['A_prev'] = A_prev\n",
    "    cache['W'] = W\n",
    "    cache['b'] = b\n",
    "    cache['params'] = params\n",
    "    ### END OF YOUR CODE SEGMENT ###          \n",
    "\n",
    "    return Z, cache"
   ]
  },
  {
   "cell_type": "code",
   "execution_count": 8,
   "metadata": {},
   "outputs": [
    {
     "name": "stdout",
     "output_type": "stream",
     "text": [
      "mean(Z) = -0.162\n",
      "cache.keys = ['A_prev', 'W', 'b', 'params']\n"
     ]
    }
   ],
   "source": [
    "# testing\n",
    "A_prev, W, b, params = t7.conv_fwd_test()\n",
    "Z, cache = conv_fwd(A_prev, W, b, params)\n",
    "print(\"mean(Z) = {:.3f}\".format(np.mean(Z)))\n",
    "print(\"cache.keys = {}\".format([key for key in cache.keys()]))"
   ]
  },
  {
   "cell_type": "markdown",
   "metadata": {},
   "source": [
    "> ***Expected Output:***\n",
    ">\n",
    "> `mean(Z) = -0.162\n",
    "cache.keys = ['A_prev', 'W', 'b', 'params']`\n",
    "\n",
    "The convolution activation map is finally obtained by applying a non-linearity to the (linear) convolution ouput `Z` e.g. ReLU:\n",
    "\n",
    "```python\n",
    "# Convolution\n",
    "Z, conv_cache = conv_fwd(A_prev, W, b, params)\n",
    "# ReLU non-linearity\n",
    "A, activation_cache = t7.relu_fwd(Z)\n",
    "```\n",
    "\n",
    "> <font color='darkgreen'>**Exercise 4:**</font>  Implement the forward convolution layer combine the forward convolution and ReLU activation. Assume the existence of `t7.relu_fwd(Z)`"
   ]
  },
  {
   "cell_type": "code",
   "execution_count": 9,
   "metadata": {},
   "outputs": [],
   "source": [
    "# Convolutional layer forward propagation ReLU activation\n",
    "def convlayer_fwd(A_prev, W, b, params):\n",
    "    \"\"\"\n",
    "    Conv layer forward propagation (conv + non-linearity)\n",
    "    \n",
    "    Arguments:\n",
    "    A_prev -- activations of previous layer, array of shape (n, n_H_prev, n_W_prev, n_C_prev)\n",
    "    W -- weights tensor of shape (n_f, n_f, n_C_prev, n_C)\n",
    "    b -- bias vector of shape (1, 1, 1, n_C)\n",
    "    params -- python dictionary \n",
    "        stride -- integer\n",
    "        padding -- integer \n",
    "        \n",
    "    Returns:\n",
    "    A -- activation output tensor of shape (n, n_H, n_W, n_C)\n",
    "    cache -- dictionary for backprop\n",
    "        CONV -- dictionary convolution cache\n",
    "        ACTIVATION -- dictionary activation cache  \n",
    "    \"\"\"\n",
    "        \n",
    "    ### INPUT YOUR CODE HERE ### (2 lines)\n",
    "    Z, conv_cache = conv_fwd(A_prev, W, b, params)\n",
    "    A, activation_cache = t7.relu_fwd(Z)\n",
    "    ### END OF YOUR CODE SEGMENT ### \n",
    "    return A, {'CONV': conv_cache, 'ACTIVATION': activation_cache}"
   ]
  },
  {
   "cell_type": "code",
   "execution_count": 10,
   "metadata": {},
   "outputs": [
    {
     "name": "stdout",
     "output_type": "stream",
     "text": [
      "mean(A) = 1.946\n",
      "cache.keys = [['A_prev', 'W', 'b', 'params'], ['Z']]\n"
     ]
    }
   ],
   "source": [
    "# testing\n",
    "A_prev, W, b, params = t7.conv_fwd_test()\n",
    "A, cache = convlayer_fwd(A_prev, W, b, params)\n",
    "print(\"mean(A) = {:.3f}\".format(np.mean(A)))\n",
    "print(\"cache.keys = {}\".format([key for key in [[key for key in value.keys()] for _, value in cache.items()]]))"
   ]
  },
  {
   "cell_type": "markdown",
   "metadata": {},
   "source": [
    "> ***Expected Output:***\n",
    ">\n",
    "> `mean(A) = 1.946\n",
    "cache.keys = [['A_prev', 'W', 'b', 'params'], ['Z']]`\n",
    "\n",
    "## B. Convolutional Layer Backprop ##\n",
    "\n",
    "When using deep learning frameworks, you only implement the forward pass, and the backward is derived automatically. In the case of convolutional layers, the backward pass is a little more involved.\n",
    "\n",
    "### 1. Convolution Backprop ###\n",
    "\n",
    "The partial derivative of the loss with respect to the convolutional layer activation, $dA$, for a given filter kernel $c$ and a given training example is given by:\n",
    "\n",
    "$$ dA += \\sum _{h=1} ^{n_H} \\sum_{w=1} ^{n_W} W_c \\times dZ_{hw} \\tag{1}$$\n",
    "\n",
    "where $W_c$ is the filter kernel for the $c^{th}$ activation map and $dZ_{hw}$ is a scalar corresponding to the gradient of the loss with respect to the output of the convolution layer Z at the $h^{th}$ row and $w^{th}$ column (corresponding to the dot product taken at the i-th stride left and j-th stride down). Note that at each location $(w, h)$, the same filter $W_c$ is multiplied by a different $dZ_{hw}$ when updating $dA$. We do so because of the parameter sharing in the convolution, each filter is dotted and summed by a different activation slice. Therefore when computing the backprop for dA, we are just adding the gradients of all the slices. This translates into the following code segment:\n",
    "\n",
    "```python \n",
    "da_prev_pad[h*stride:h*stride+n_f, w*stride:w*stride+n_f, :] += W[:,:,:,c] * dZ[i, h, w, c] \n",
    "```\n",
    "\n",
    "The partial derivative of the loss with respect to the weights of the $c^{th}$ filter kernel is given by:\n",
    "\n",
    "$$ dW_c  += \\sum _{h=1} ^{n_H} \\sum_{w=1} ^ {n_W} a_{slice} \\times dZ_{hw}  \\tag{2}$$\n",
    "\n",
    "where $a_{slice}$ corresponds to the slice used to generate the activation $Z_{hw}$. Hence, this provides the gradient for $W_c$ with respect to that slice. Since it is the same $W_c$ for all slices, we just add up all these gradients to get $dW_c$. This translates into the following code segment:\n",
    "\n",
    "```python \n",
    "dW[:,:,:,c] += a_slice * dZ[i, h, w, c]\n",
    "```\n",
    "\n",
    "The partial derivative of the loss with respect to the bias of the $c^{th}$ filter kernel is given by:\n",
    "\n",
    "$$ db_c += \\sum _{h=1} ^{n_H} \\sum_{w=1} ^ {n_W} dZ_{hw} \\tag{3}$$\n",
    "\n",
    "This translates into the following code segment:\n",
    "\n",
    "```python\n",
    "db[:,:,:,c] += dZ[i, h, w, c]```\n",
    "\n",
    "> <font color='darkgreen'>**Exercise 5:**</font> Implement the `conv_backward` function below. You should sum over all the training examples, filters, heights, and widths. You should then compute the derivatives using formulas 1, 2 and 3 above. "
   ]
  },
  {
   "cell_type": "code",
   "execution_count": 11,
   "metadata": {},
   "outputs": [],
   "source": [
    "# Backward convolution\n",
    "def conv_back(dZ, cache):\n",
    "    \"\"\"\n",
    "    Implements convolution backward propagation \n",
    "    \n",
    "    Arguments:\n",
    "    dZ -- gradient of loss with respect to conv layer output, array of shape (n, n_H, n_W, n_C)\n",
    "    cache -- dictionary for backprop\n",
    "        A_prev -- activations of previous layer, array of shape (n, n_H_prev, n_W_prev, n_C_prev)\n",
    "        W -- weights tensor of shape (n_f, n_f, n_C_prev, n_C)\n",
    "        b -- bias vector of shape (1, 1, 1, n_C)\n",
    "        params -- python dictionary \n",
    "            stride -- integer\n",
    "            padding -- integer \n",
    "    \n",
    "    Returns:\n",
    "        dW -- gradient of loss with respect to current layer weights, shape (n_f, n_f, n_C_prev, n_C)\n",
    "        db -- gradient of loss with respect to current layer bias, shape (1, 1, 1, n_C)\n",
    "        dA_prev -- gradient of loss with respect to activation of previous layer output, shape (n, n_H_prev, n_W_prev, n_C_prev)\n",
    "    \"\"\"    \n",
    "    \n",
    "    ### INPUT YOUR CODE HERE ### (14 lines)\n",
    "    A_prev = cache[\"A_prev\"] # Retrieve from forward prop cache\n",
    "    W = cache[\"W\"] # Retrieve from forward prop cache\n",
    "    b = cache[\"b\"] # Retrieve from forward prop cache\n",
    "    params = cache[\"params\"] # Retrieve from forward prop cache\n",
    "    (n, n_H_prev, n_W_prev, n_C_prev) = A_prev.shape # Retrieve dimensions\n",
    "    (n_f, n_f, n_C_prev, n_C) = W.shape # Retrieve dimensions\n",
    "    stride = params[\"stride\"] # Retrieve stride\n",
    "    padding = params[\"padding\"] # Retrieve padding\n",
    "    (n, n_H, n_W, n_C) = dZ.shape # Retrieve dimensions\n",
    "    A_prev_pad = zero_pad(A_prev, padding) # Pad A_prev\n",
    "    dA_prev_pad = np.zeros_like(A_prev_pad) # Initialise dA_prev_pad\n",
    "    dW = np.zeros_like(W) # Initialise dW\n",
    "    db = np.zeros_like(b) # Initialise db\n",
    "    dA_prev = np.zeros_like(A_prev) # Initialise dA_prev\n",
    "    ### END OF YOUR CODE SEGMENT ###          \n",
    "\n",
    "    \n",
    "    for i in range(n):                    # batch loop\n",
    "        a_prev_pad = A_prev_pad[i,:,:,:]  # select ith training padded activation  \n",
    "        da_prev_pad = dA_prev_pad[i,:,:,:]# select ith training padded activation gradient  \n",
    "        for h in range(n_H):              # height loop\n",
    "            for w in range(n_W):          # width loop\n",
    "                for c in range(n_C):      # channel (# of filter) loop\n",
    "                    ### INPUT YOUR CODE HERE ### (6 lines)\n",
    "                    h_range = slice(h*stride, h*stride+n_f)\n",
    "                    w_range = slice(w*stride, w*stride+n_f)\n",
    "                    a_slice = a_prev_pad[h_range, w_range, :] # slice of a_prev_pad\n",
    "                    da_prev_pad[h_range, w_range, :] += W[:, :, :, c] * dZ[i, h, w, c]\n",
    "                    dW[:, :, :, c] += a_slice * dZ[i, h, w, c]\n",
    "                    db[:, :, :, c] += dZ[i, h, w, c]\n",
    "                    ### END OF YOUR CODE SEGMENT ###\n",
    "        \n",
    "        ### INPUT YOUR CODE HERE ### (1 line)\n",
    "        dA_prev[i, :, :, :] = da_prev_pad[padding:-padding, padding:-padding, :] # Remove padding\n",
    "        ### END OF YOUR CODE SEGMENT ###\n",
    "    \n",
    "    assert(dA_prev.shape == (n, n_H_prev, n_W_prev, n_C_prev))\n",
    "    \n",
    "    return dA_prev, dW, db"
   ]
  },
  {
   "cell_type": "code",
   "execution_count": 12,
   "metadata": {},
   "outputs": [
    {
     "name": "stdout",
     "output_type": "stream",
     "text": [
      "mean(dA) = 0.961\n",
      "mean(dW) = 1162.824\n",
      "mean(db) = -6010.032\n"
     ]
    }
   ],
   "source": [
    "# testing\n",
    "A_prev, W, b, params = t7.conv_fwd_test()\n",
    "Z, cache_conv = conv_fwd(A_prev, W, b, params)\n",
    "dA, dW, db = conv_back(Z, cache_conv)\n",
    "print(\"mean(dA) = {:.3f}\".format(np.mean(dA)))\n",
    "print(\"mean(dW) = {:.3f}\".format(np.mean(dW)))\n",
    "print(\"mean(db) = {:.3f}\".format(np.mean(db)))"
   ]
  },
  {
   "cell_type": "markdown",
   "metadata": {},
   "source": [
    "> ***Expected Output:***\n",
    ">\n",
    "> `mean(dA) = 0.961\n",
    "mean(dW) = 1162.824\n",
    "mean(db) = -6010.032`\n",
    "\n",
    "### 2. CONV Layer Backprop ###\n",
    "\n",
    "We can now combine the backprop from the convolution and non-lineary modules to compute the backprop for a single convolutional layer.\n",
    "\n",
    "<font color='darkgreen'>**Exercise 6:**</font> Implement the convolution layer backward propagation. Assume the existence of `t7.relu_back(dA, cache)`<br>"
   ]
  },
  {
   "cell_type": "code",
   "execution_count": 13,
   "metadata": {},
   "outputs": [],
   "source": [
    "# Convolutional layer backward propagation with ReLU activation\n",
    "def convlayer_back(dA, cache):\n",
    "    \"\"\"\n",
    "    Single convolutional layer backprop\n",
    "\n",
    "    Arguments:\n",
    "    dA -- gradient of loss with respect to activation\n",
    "    cache -- dictionary from forward propagation\n",
    "        CONV -- dictionary convolution cache\n",
    "        ACTIVATION -- dictionary activation cache \n",
    "\n",
    "    Returns:\n",
    "    dW -- gradient of loss with respect to current layer weights\n",
    "    db -- gradient of loss with respect to current layer bias\n",
    "    dA_prev -- gradient of loss with respect to activation of previous layer output\n",
    "    \"\"\"\n",
    "    \n",
    "    conv_cache = cache['CONV']\n",
    "    activation_cache = cache['ACTIVATION']\n",
    "    \n",
    "    ### INPUT YOUR CODE HERE ### (2 lines)\n",
    "    dZ = t7.relu_back(dA, activation_cache)\n",
    "    dW, db, dA_prev = conv_back(dZ, conv_cache)\n",
    "    ### END OF YOUR CODE SEGMENT ### \n",
    "    \n",
    "    return dW, db, dA_prev"
   ]
  },
  {
   "cell_type": "code",
   "execution_count": 14,
   "metadata": {},
   "outputs": [
    {
     "name": "stdout",
     "output_type": "stream",
     "text": [
      "mean(dA_prev) = -50.620\n",
      "mean(dW) = -0.010\n",
      "mean(db) = 6.885\n"
     ]
    }
   ],
   "source": [
    "# testing\n",
    "dA, cache = t7.convlayer_back_test()\n",
    "dW, db, dA_prev = convlayer_back(dA, cache)\n",
    "print(\"mean(dA_prev) = {:.3f}\".format(np.mean(dA_prev)))\n",
    "print(\"mean(dW) = {:.3f}\".format(np.mean(dW)))\n",
    "print(\"mean(db) = {:.3f}\".format(np.mean(db)))"
   ]
  },
  {
   "cell_type": "markdown",
   "metadata": {},
   "source": [
    "> ***Expected Output:***\n",
    ">\n",
    "> `mean(dA_prev) = -50.620\n",
    "mean(dW) = -0.010\n",
    "mean(db) = 6.885`\n",
    "\n",
    "## C. Pooling Layer Forward Propagation ##\n",
    "\n",
    "The pooling (POOL) layer reduces the height and width of the activation input maps. Not only this helps in reducing computation but it also contributes to learning spatial invariance features. There are two main types of pooling layers as shown Figure 3, namely: \n",
    "\n",
    "- max pool: slides an $n_f \\times n_f$ window over the input and extracts the maximum value\n",
    "\n",
    "- average pool: slides an $n_f \\times n_f$ window over the input and compute the average value\n",
    "\n",
    "<img src=\"figs/pooling.png\" style=\"width: 710px;\"/>\n",
    "<caption><center>**Figure 3:** Pooling operation with a window of $3\\times 3$ and a stride of 3</center></caption>\n",
    "\n",
    "Note that POOL layers have no trainable parameters for backprop. However, they define hyperparameters such as the window size $n_f$. Let's now implement both MAXPOOL and AVGPOOL as a single function API. The dimensions of the pooling output are given by:\n",
    "\n",
    "$$ n_H^{[k]} = \\left\\lfloor \\frac{n_H^{[k-1]} - n_f}{stride} \\right\\rfloor + 1 $$\n",
    "\n",
    "$$ n_W^{[k]} = \\left\\lfloor \\frac{n_W^{[k-1]} - n_f}{stride} \\right\\rfloor + 1 $$\n",
    "\n",
    "$$ n_C^{[k]} = n_C^{[k-1]}$$\n",
    "\n",
    "\n",
    "> <font color='darkgreen'>**Exercise 7:**</font> Implement the forward pass for the POOL layer<br>"
   ]
  },
  {
   "cell_type": "code",
   "execution_count": 15,
   "metadata": {},
   "outputs": [],
   "source": [
    "# Pooling layer forward propagation\n",
    "def pool_fwd(A_prev, params):\n",
    "    '''\n",
    "    Implements pooling forward propagation \n",
    "    \n",
    "    Arguments:\n",
    "    A_prev -- activations of previous layer, tensor of shape (n, n_H_prev, n_W_prev, n_C_prev)\n",
    "    params -- python dictionary \n",
    "        stride -- integer\n",
    "        n_f -- integer\n",
    "        pool_mode -- string either 'max' or 'avg'\n",
    "    \n",
    "    Returns:\n",
    "    A -- pool layer output, tensor of shape (n, n_H_prev, n_W_prev, n_C_prev)\n",
    "    cache -- dictionary for backprop\n",
    "        A_prev -- pool layer input\n",
    "        stride -- integer\n",
    "        n_f -- integer\n",
    "        pool_mode -- string either 'max' or 'avg'\n",
    "    '''\n",
    "    \n",
    "    ### INPUT YOUR CODE HERE ### (8 lines)\n",
    "    (n, n_H_prev, n_W_prev, n_C_prev) = A_prev.shape # Retrieve dimensions\n",
    "    stride = params['stride'] # Retrieve stride\n",
    "    n_f = params['n_f']    # Retrieve n_f\n",
    "    pool_mode = params['pool_mode'] # Retrieve pool_mode\n",
    "    n_H = int(1 + (n_H_prev - n_f) / stride)\n",
    "    n_W = int(1 + (n_W_prev - n_f) / stride)\n",
    "    n_C = n_C_prev\n",
    "    A = np.zeros((n, n_H, n_W, n_C)) # Initialize output tensor with zeros         \n",
    "    ### END OF YOUR CODE SEGMENT ###\n",
    "    \n",
    "    for i in range(n):                    # batch loop\n",
    "        for h in range(n_H):              # height loop\n",
    "            for w in range(n_W):          # width loop\n",
    "                for c in range(n_C):      # channel loop\n",
    "                    ### INPUT YOUR CODE HERE ### (7 lines)\n",
    "                    h_range = slice(h*stride, h*stride+n_f)\n",
    "                    w_range = slice(w*stride, w*stride+n_f)\n",
    "                    a_prev_slice = A_prev[i, h_range, w_range, c]\n",
    "                    if pool_mode == 'max':\n",
    "                        A[i, h, w, c] = np.max(a_prev_slice)\n",
    "                    elif pool_mode == 'avg': \n",
    "                        A[i, h, w, c] = np.mean(a_prev_slice)\n",
    "                    ### END OF YOUR CODE SEGMENT ###\n",
    "        \n",
    "    cache = {}\n",
    "    cache['A_prev'] = A_prev\n",
    "    cache['stride'] = stride\n",
    "    cache['n_f'] = n_f\n",
    "    cache['pool_mode'] = pool_mode\n",
    "    \n",
    "    assert(A.shape == (n, n_H, n_W, n_C))\n",
    "    return A, cache"
   ]
  },
  {
   "cell_type": "code",
   "execution_count": 16,
   "metadata": {},
   "outputs": [
    {
     "name": "stdout",
     "output_type": "stream",
     "text": [
      "mean(A_maxpool) = 0.900\n",
      "mean(A_avgpool) = 0.501\n",
      "3x3 CONV with stride 3\n"
     ]
    },
    {
     "data": {
      "image/png": "[encoded data removed]",
      "text/plain": [
       "<Figure size 640x480 with 3 Axes>"
      ]
     },
     "metadata": {},
     "output_type": "display_data"
    }
   ],
   "source": [
    "# testing\n",
    "A_prev, max_params, avg_params = t7.pool_fwd_test()\n",
    "A_maxpool, cache = pool_fwd(A_prev, max_params)\n",
    "A_avgpool, _ = pool_fwd(A_prev, avg_params)\n",
    "print(\"mean(A_maxpool) = {:.3f}\".format(np.mean(A_maxpool)))\n",
    "print(\"mean(A_avgpool) = {:.3f}\".format(np.mean(A_avgpool)))\n",
    "print(\"{}x{} CONV with stride {}\".format(cache['n_f'], cache['n_f'], cache['stride']))\n",
    "\n",
    "_, figs = plt.subplots(1, 3)\n",
    "figs[0].set_title('input {}'.format(A_prev.shape[1:3]))\n",
    "figs[1].set_title('max POOL {}'.format(A_maxpool.shape[1:3]))\n",
    "figs[2].set_title('avg POOL {}'.format(A_avgpool.shape[1:3]))\n",
    "figs[0].imshow(A_prev[0,:,:,:])\n",
    "figs[1].imshow(A_maxpool[0,:,:,:])\n",
    "figs[2].imshow(A_avgpool[0,:,:,:])\n",
    "_ = [fig.axis('off') for _, fig in np.ndenumerate(figs)]"
   ]
  },
  {
   "cell_type": "markdown",
   "metadata": {},
   "source": [
    "> ***Expected Output:***\n",
    ">\n",
    "> `mean(A_maxpool) = 0.900\n",
    "mean(A_avgpool) = 0.501\n",
    "3x3 CONV with stride 3`\n",
    "\n",
    "\n",
    "## D. Pool Layer Backprop ##\n",
    "\n",
    "Let's now implement the backward pass for the POOL layer for both max and average pooling modes. Even though a pooling layer has no parameters to update, we still need to backprop the gradient through the pooling layer in order to compute gradients for previous layers (typically a CONV layer).\n",
    "\n",
    "### D.1. Pooling mask  ###\n",
    "\n",
    "Let's first consider the max pooling mode. We must consider the location of the maximum values in the input maps, creating a mask slice from the pooling region. Note that it is possible to have multiple entries of the max value. In this case, we will scale the mask by the number of max values. This mask indicates input locations that affect the pooling output. Similarly we can define a pooling mask for the average pooling mode. In this case, all the values in the slice window affect the pooling output equally. So the mask will be a matrix of ones scaled by the average pooling number of elements.\n",
    "\n",
    "> <font color='darkgreen'>**Exercise 8:**</font> Implement the function to create the pool mask for a given slice. <br>"
   ]
  },
  {
   "cell_type": "code",
   "execution_count": 17,
   "metadata": {},
   "outputs": [],
   "source": [
    "def slice_mask(a_slice, pool_mode):\n",
    "    \"\"\"\n",
    "    Creates a mask from input sclice\n",
    "    \n",
    "    Arguments:\n",
    "    a_slice -- Array of shape (n_f, n_f)\n",
    "    pool_mode -- String either 'max' or 'avg'\n",
    "    \n",
    "    Returns:\n",
    "    mask -- Array of shape (n_f, n_f)\n",
    "    \"\"\"\n",
    "    \n",
    "    ### INPUT YOUR CODE HERE ### (5 lines)\n",
    "    if pool_mode == 'max':\n",
    "        mask = (a_slice == np.max(a_slice))\n",
    "    elif pool_mode == 'avg': \n",
    "        mask = np.ones_like(a_slice) / a_slice.size\n",
    "    mask = mask.astype(int)\n",
    "    ### END OF YOUR CODE SEGMENT ###\n",
    "    \n",
    "    return mask"
   ]
  },
  {
   "cell_type": "code",
   "execution_count": 18,
   "metadata": {},
   "outputs": [
    {
     "name": "stdout",
     "output_type": "stream",
     "text": [
      "a_slice:\n",
      "[[9. 4. 6.]\n",
      " [6. 9. 3.]]\n",
      "max mask:\n",
      "[[1 0 0]\n",
      " [0 1 0]]\n",
      "avg mask:\n",
      "[[0 0 0]\n",
      " [0 0 0]]\n"
     ]
    }
   ],
   "source": [
    "# testing\n",
    "np.random.seed(2019) # for reproducibility\n",
    "a_slice = np.round(10 * np.random.rand(2, 3))\n",
    "print('a_slice:')\n",
    "print('{}'.format(a_slice))\n",
    "mask = slice_mask(a_slice, 'max')\n",
    "print('max mask:')\n",
    "print('{}'.format(mask))\n",
    "mask = slice_mask(a_slice, 'avg')\n",
    "print('avg mask:')\n",
    "print('{}'.format(mask))"
   ]
  },
  {
   "cell_type": "markdown",
   "metadata": {},
   "source": [
    "> ***Expected Output:***\n",
    ">\n",
    "> `a_slice:\n",
    "[[9. 4. 6.]\n",
    " [6. 9. 3.]]\n",
    "max mask:\n",
    "[[0.5 0.  0. ]\n",
    " [0.  0.5 0. ]]\n",
    "avg mask:\n",
    "[[0.167 0.167 0.167]\n",
    " [0.167 0.167 0.167]]`\n",
    "\n",
    "\n",
    "### D.2. POOL Layer Backprop ###\n",
    "  \n",
    "Let's now compute the backward propagation of the POOL layer. \n",
    "\n",
    "> <font color='darkgreen'>**Exercise 9:**</font> Implement the function below using four nested loops to compute the POOL layer backprop using the `slice_mask` function above to compute the mask to be mutliplied by the $dZ_{i,h,w,c}$ scalar using broadcasting."
   ]
  },
  {
   "cell_type": "code",
   "execution_count": 25,
   "metadata": {},
   "outputs": [],
   "source": [
    "# Pooling layer backward propagation\n",
    "def pool_back(dA, cache):\n",
    "    \"\"\"\n",
    "    Implements pooling backward propagation \n",
    "    \n",
    "    Arguments:\n",
    "    dA -- gradient of loss with respect to pooling layer output, same shape as A\n",
    "    cache -- dictionary for backprop\n",
    "        A_prev -- pool layer input\n",
    "        stride -- integer\n",
    "        n_f -- integer\n",
    "        pool_mode -- string either 'max' or 'avg'\n",
    "    \n",
    "    Returns:\n",
    "    dA_prev -- gradient of loss with respect to pooling layer input, same shape as A_prev\n",
    "    \"\"\"\n",
    "    \n",
    "    ### INPUT YOUR CODE HERE ### (7 lines)\n",
    "    A_prev = cache['A_prev'] \n",
    "    stride = cache['stride'] \n",
    "    n_f = cache['n_f']\n",
    "    pool_mode = cache['pool_mode']\n",
    "    n, n_H_prev, n_W_prev, n_C_prev = A_prev.shape\n",
    "    _, n_H, n_W, n_C = dA.shape\n",
    "    dA_prev = np.zeros_like(A_prev)\n",
    "    ### END OF YOUR CODE SEGMENT ###\n",
    "\n",
    "    \n",
    "    for i in range(n):                    # batch loop\n",
    "        a_prev = A_prev[i, :, :, :]       # select training example from A_prev\n",
    "        for h in range(n_H):              # height loop\n",
    "            for w in range(n_W):          # width loop\n",
    "                for c in range(n_C):      # channel loop\n",
    "                    ### INPUT YOUR CODE HERE ### (5 lines)\n",
    "                    h_range = slice(h*stride, h*stride+n_f)\n",
    "                    w_range = slice(w*stride, w*stride+n_f)\n",
    "                    a_prev_slice = A_prev[i, h_range, w_range, c]\n",
    "                    mask = slice_mask(a_prev_slice,pool_mode)\n",
    "                    dA_prev[i, h_range , w_range, c] += mask * dA[i, h, w, c]\n",
    "                    ### END OF YOUR CODE SEGMENT ###\n",
    "\n",
    "    assert(dA_prev.shape == A_prev.shape)    \n",
    "    return dA_prev"
   ]
  },
  {
   "cell_type": "code",
   "execution_count": 26,
   "metadata": {},
   "outputs": [
    {
     "name": "stdout",
     "output_type": "stream",
     "text": [
      "max-pool: mean(dA_prev) = 0.055, std(dA_prev) = 0.184\n",
      "avg-pool: mean(dA_prev) = 0.000, std(dA_prev) = 0.000\n"
     ]
    },
    {
     "data": {
      "image/png": "[encoded data removed]",
      "text/plain": [
       "<Figure size 640x480 with 4 Axes>"
      ]
     },
     "metadata": {},
     "output_type": "display_data"
    },
    {
     "data": {
      "image/png": "[encoded data removed]",
      "text/plain": [
       "<Figure size 640x480 with 4 Axes>"
      ]
     },
     "metadata": {},
     "output_type": "display_data"
    }
   ],
   "source": [
    "# testing\n",
    "A_prev, max_params, avg_params = t7.pool_fwd_test()\n",
    "\n",
    "A, cache = pool_fwd(A_prev, max_params)\n",
    "dA = np.random.rand(*A.shape)\n",
    "dA_prev = pool_back(dA, cache)\n",
    "print(\"{}-pool: mean(dA_prev) = {:.3f}, std(dA_prev) = {:.3f}\".format(cache['pool_mode'], np.mean(dA_prev), np.std(dA_prev)))\n",
    "\n",
    "_, figs = plt.subplots(1, 4)\n",
    "figs[0].imshow(A_prev[0,:,:,:])\n",
    "figs[1].imshow(dA_prev[0,:,:,:])\n",
    "figs[2].imshow(A[0,:,:,:])\n",
    "figs[3].imshow(dA[0,:,:,:])\n",
    "figs[0].set_title('$A^{k-1}$')\n",
    "figs[1].set_title('$dA^{k-1}$')\n",
    "figs[2].set_title('$A^{k}$')\n",
    "figs[3].set_title('$dA^{k}$')\n",
    "_ = [fig.axis('off') for _, fig in np.ndenumerate(figs)]\n",
    "\n",
    "A, cache = pool_fwd(A_prev, avg_params)\n",
    "dA_prev = pool_back(dA, cache)\n",
    "print(\"{}-pool: mean(dA_prev) = {:.3f}, std(dA_prev) = {:.3f}\".format(cache['pool_mode'], np.mean(dA_prev), np.std(dA_prev)))\n",
    "\n",
    "_, figs = plt.subplots(1, 4)\n",
    "figs[0].imshow(A_prev[0,:,:,:])\n",
    "figs[1].imshow(dA_prev[0,:,:,:])\n",
    "figs[2].imshow(A[0,:,:,:])\n",
    "figs[3].imshow(dA[0,:,:,:])\n",
    "figs[0].set_title('$A^{k-1}$')\n",
    "figs[1].set_title('$dA^{k-1}$')\n",
    "figs[2].set_title('$A^{k}$')\n",
    "figs[3].set_title('$dA^{k}$')\n",
    "_ = [fig.axis('off') for _, fig in np.ndenumerate(figs)]\n",
    "# "
   ]
  },
  {
   "cell_type": "markdown",
   "metadata": {},
   "source": [
    "> ***Expected Output:***\n",
    ">\n",
    "> `max-pool: mean(dA_prev) = 0.055, std(dA_prev) = 0.184\n",
    "avg-pool: mean(dA_prev) = 0.055, std(dA_prev) = 0.032`\n",
    "\n",
    "## Final Remark ##\n",
    "\n",
    "You now ready to create deep convolutional models stacking CONV and POOL layers. Note that our implementation is not fully vectorised (4 nested loops in forward and barckward propagation) and as a result training large models will be slow. Also we don't make use of massively parallel MAC achitectures as found in GPU. For this reason, we won't train any model with this code and will prefer to use deep learning frameworks such as tensorflow.keras or pytorch.nn."
   ]
  },
  {
   "cell_type": "markdown",
   "metadata": {},
   "source": [
    "-- EOF --"
   ]
  }
 ],
 "metadata": {
  "coursera": {
   "course_slug": "neural-networks-deep-learning",
   "graded_item_id": "wRuwL",
   "launcher_item_id": "NI888"
  },
  "kernelspec": {
   "display_name": "Python 3",
   "language": "python",
   "name": "python3"
  },
  "language_info": {
   "codemirror_mode": {
    "name": "ipython",
    "version": 3
   },
   "file_extension": ".py",
   "mimetype": "text/x-python",
   "name": "python",
   "nbconvert_exporter": "python",
   "pygments_lexer": "ipython3",
   "version": "3.8.18"
  },
  "pycharm": {
   "stem_cell": {
    "cell_type": "raw",
    "metadata": {
     "collapsed": false
    },
    "source": []
   }
  }
 },
 "nbformat": 4,
 "nbformat_minor": 2
}
